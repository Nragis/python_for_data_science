{
 "cells": [
  {
   "cell_type": "markdown",
   "metadata": {},
   "source": [
    "# Chapter 14: Data Analysis Examples"
   ]
  }
 ],
 "metadata": {
  "interpreter": {
   "hash": "3f43bb993ffe8590ded11f0f57687fb429ae6bacd516d8916bd67b2118550d2f"
  },
  "kernelspec": {
   "display_name": "Python 3.8.10 ('pfda_venv': venv)",
   "language": "python",
   "name": "python3"
  },
  "language_info": {
   "name": "python",
   "version": "3.8.10"
  },
  "orig_nbformat": 4
 },
 "nbformat": 4,
 "nbformat_minor": 2
}
