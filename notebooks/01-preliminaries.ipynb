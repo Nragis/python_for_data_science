{
 "cells": [
  {
   "cell_type": "markdown",
   "metadata": {},
   "source": [
    "# Chapter 1: Preliminaries"
   ]
  },
  {
   "cell_type": "markdown",
   "metadata": {},
   "source": [
    "## 1.1: What Is This Book About\n",
    "- Nuts and bolts of data mani, processing, cleaning, and crunching\n",
    "- Mostly focusses on Python programming and libraries rather than methodology\n",
    "\n",
    "### What Kinds of Data?\n",
    "- Structured data\n",
    "  - Tabular / spreadsheet data (csvs)\n",
    "  - Multidimensional Arrays (vectors, matrices, tensors)\n",
    "  - Relational data interrelated by key columns (primary keys)\n",
    "  - time-series data"
   ]
  },
  {
   "cell_type": "markdown",
   "metadata": {},
   "source": [
    "## 1.2 Why Python for Data Analysis?\n",
    "- Python has a large and active scientific computing and data analysis community\n",
    "- Compared to R, MATLAB, SAS, Stata, etc, Python has far greater usability\n",
    "\n",
    "### Python as Glue\n",
    "- Python can easily utilize C, C++, and FORTRAN code, allowing the user the ease\n",
    "    of use of Python while getting the efficiency and power of those languages.\n",
    "- Python is used as the \"Glue Code\" tying together computations and libraries.\n",
    "    The runtime of this glue code is nearly insignificant, and the improvement\n",
    "    in development speed can far outweigh the cost in computation speed.\n",
    "\n",
    "### Solving the \"Two-Language\" Problem\n",
    "- In most applications, it's common to have a research / prototyping language \n",
    "    and a production language\n",
    "    - Research languages tend to be SAS or R\n",
    "    - Production languages tend to be C, C++, C#, FORTRAN, Java, etc\n",
    "- Python acomplishes the task of both of these categories due to the heavy \n",
    "    lifting being done by C/C++ code.\n",
    "\n",
    "### Why Not Python?\n",
    "- Applications that need very low latency (high freq trading), the time lost\n",
    "    in programming directly in C/C++ to acheive maximum performance might be \n",
    "    worthwhile\n",
    "- Python struggles in many parallel computing problems like multithreading due\n",
    "    to the restriction that Python's interpreter can only execute one \n",
    "    instruction at a time\n",
    "    - Python C  libraries can execute truly parallel code, but they cannot \n",
    "        communicate with Python objects simultaneously."
   ]
  },
  {
   "cell_type": "markdown",
   "metadata": {},
   "source": [
    "## 1.3 Essential Python Libraries\n",
    "### NumPy\n",
    "- (Numerical Python)\n",
    "- Provides data structures and algorithms required for most scientific \n",
    "    applications\n",
    "    - ndarray: optimized multidimensional array\n",
    "    - Element-wise array functions or array binary operations\n",
    "    - Tools for reading / writing array-based datasets to disk\n",
    "    - Linear Algebra operations, Fourier transform, and random number generation\n",
    "- NumPy's data structures are used widely across different computing libraries\n",
    "- Additionally, NumPy objects can be acted on by lower level languages such as\n",
    "    C and FORTRAN without having to convert representations\n",
    "\n",
    "### pandas\n",
    "- Provides high-level data structures and functions\n",
    "- Has two primary objects:\n",
    "    - DataFrame: tabular, column oriented data structure\n",
    "    - Series: a one-dimensional labelled array object\n",
    "- Blends the high-performance of NumPy with the capabilities of spreadsheets\n",
    "    and relational databases\n",
    "- Provides sophisticated indexing, which makes it easy to reshape, slice, \n",
    "    perform aggregations, and select substets of data\n",
    "\n",
    "### matplotlib\n",
    "- Most popular Python plotting and data visualizations library\n",
    "\n",
    "### IPython & Jupyter\n",
    "- IPython creates a more interactive Python interpreter\n",
    "- Instead of eidt-compile-run, IPython utilized a execute-explore workflow\n",
    "- Very effective for analyzing, prototyping, and experimenting\n",
    "- IPython became a component of the much broader, multi-language Jupyter.\n",
    "- Code is held in cells which can be run individually and out of order, and \n",
    "    their output can be displayed next to them\n",
    "- Additionally, Markdown and HTML can be used to create rich explanations\n",
    "\n",
    "### SciPy\n",
    "- A collection of packages addressing a number of different problems in \n",
    "    scientific computing:\n",
    "    - scipy.integrate: Numerical integration and differential equations solvers\n",
    "    - scipy.linalg: Linear algebra routines and matrix decomposisitons\n",
    "    - scipy.optimize: Functions optimizers and root finding algorithms\n",
    "    - scipy.signal: Signal processing tools\n",
    "    - scipy.sparse: Sparse matrices and sparse linear system solvers\n",
    "    - scipy.special: Wrapper around SPECFUN, a FORTRAN library with many common\n",
    "        mathematical functions\n",
    "    - scipy.stats: Standard continuous and discrete probability distributions,\n",
    "        statistical test, and more descriptive statistics\n",
    "- Combined with NumPy, SciPy forms a reasonably complete computational \n",
    "    foundation in scientific applications.\n",
    "\n",
    "### scikit-learn\n",
    "- Premier general-purpose machine learning toolkit for Python.\n",
    "- It includes submodules for Classification, Regressing, Clustering,\n",
    "    Dimensionality Reduction, Model Selection, Preprocessing, etc\n",
    "\n",
    "### statsmodels\n",
    "- A statistical analysis package derived from common models in R.\n",
    "- Compared with scikit-learn, statsmodels contains models for more classical \n",
    "    statistics and econometrics such as Regressions, Analysis of Variance, \n",
    "    Time series analysis, Nonparametric methods, and Visualization of \n",
    "    statistical model results\n",
    "- More focused on statistical inference than predictions"
   ]
  },
  {
   "cell_type": "markdown",
   "metadata": {},
   "source": [
    "## 1.4 Installation and Setup\n",
    "(already set up; see book)"
   ]
  },
  {
   "cell_type": "markdown",
   "metadata": {},
   "source": [
    "## 1.5 Community and Conferences\n",
    "(see book)"
   ]
  },
  {
   "cell_type": "markdown",
   "metadata": {},
   "source": [
    "## 1.6 Navigating this Book\n",
    "(see book)"
   ]
  }
 ],
 "metadata": {
  "interpreter": {
   "hash": "767d51c1340bd893661ea55ea3124f6de3c7a262a8b4abca0554b478b1e2ff90"
  },
  "kernelspec": {
   "display_name": "Python 3.8.10 64-bit",
   "language": "python",
   "name": "python3"
  },
  "language_info": {
   "name": "python",
   "version": "3.8.10"
  },
  "orig_nbformat": 4
 },
 "nbformat": 4,
 "nbformat_minor": 2
}
